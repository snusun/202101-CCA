{
  "nbformat": 4,
  "nbformat_minor": 0,
  "metadata": {
    "kernelspec": {
      "name": "python3",
      "display_name": "Python 3"
    },
    "colab": {
      "name": "skeleton.ipynb",
      "provenance": [],
      "collapsed_sections": []
    },
    "language_info": {
      "name": "python"
    },
    "accelerator": "GPU"
  },
  "cells": [
    {
      "cell_type": "code",
      "metadata": {
        "colab": {
          "base_uri": "https://localhost:8080/"
        },
        "id": "VP8FWGeTq7lD",
        "outputId": "9da76035-55d6-4cd3-9c21-3fa3b57130e9"
      },
      "source": [
        "pip install transformers"
      ],
      "execution_count": 1,
      "outputs": [
        {
          "output_type": "stream",
          "text": [
            "Requirement already satisfied: transformers in /usr/local/lib/python3.7/dist-packages (4.5.1)\n",
            "Requirement already satisfied: tokenizers<0.11,>=0.10.1 in /usr/local/lib/python3.7/dist-packages (from transformers) (0.10.2)\n",
            "Requirement already satisfied: sacremoses in /usr/local/lib/python3.7/dist-packages (from transformers) (0.0.45)\n",
            "Requirement already satisfied: packaging in /usr/local/lib/python3.7/dist-packages (from transformers) (20.9)\n",
            "Requirement already satisfied: regex!=2019.12.17 in /usr/local/lib/python3.7/dist-packages (from transformers) (2019.12.20)\n",
            "Requirement already satisfied: filelock in /usr/local/lib/python3.7/dist-packages (from transformers) (3.0.12)\n",
            "Requirement already satisfied: tqdm>=4.27 in /usr/local/lib/python3.7/dist-packages (from transformers) (4.41.1)\n",
            "Requirement already satisfied: numpy>=1.17 in /usr/local/lib/python3.7/dist-packages (from transformers) (1.19.5)\n",
            "Requirement already satisfied: importlib-metadata; python_version < \"3.8\" in /usr/local/lib/python3.7/dist-packages (from transformers) (3.10.1)\n",
            "Requirement already satisfied: requests in /usr/local/lib/python3.7/dist-packages (from transformers) (2.23.0)\n",
            "Requirement already satisfied: joblib in /usr/local/lib/python3.7/dist-packages (from sacremoses->transformers) (1.0.1)\n",
            "Requirement already satisfied: six in /usr/local/lib/python3.7/dist-packages (from sacremoses->transformers) (1.15.0)\n",
            "Requirement already satisfied: click in /usr/local/lib/python3.7/dist-packages (from sacremoses->transformers) (7.1.2)\n",
            "Requirement already satisfied: pyparsing>=2.0.2 in /usr/local/lib/python3.7/dist-packages (from packaging->transformers) (2.4.7)\n",
            "Requirement already satisfied: typing-extensions>=3.6.4; python_version < \"3.8\" in /usr/local/lib/python3.7/dist-packages (from importlib-metadata; python_version < \"3.8\"->transformers) (3.7.4.3)\n",
            "Requirement already satisfied: zipp>=0.5 in /usr/local/lib/python3.7/dist-packages (from importlib-metadata; python_version < \"3.8\"->transformers) (3.4.1)\n",
            "Requirement already satisfied: chardet<4,>=3.0.2 in /usr/local/lib/python3.7/dist-packages (from requests->transformers) (3.0.4)\n",
            "Requirement already satisfied: certifi>=2017.4.17 in /usr/local/lib/python3.7/dist-packages (from requests->transformers) (2020.12.5)\n",
            "Requirement already satisfied: idna<3,>=2.5 in /usr/local/lib/python3.7/dist-packages (from requests->transformers) (2.10)\n",
            "Requirement already satisfied: urllib3!=1.25.0,!=1.25.1,<1.26,>=1.21.1 in /usr/local/lib/python3.7/dist-packages (from requests->transformers) (1.24.3)\n"
          ],
          "name": "stdout"
        }
      ]
    },
    {
      "cell_type": "code",
      "metadata": {
        "id": "ywgrgE-zp_-b"
      },
      "source": [
        "from transformers import BertTokenizer,BertModel\n",
        "import torch\n",
        "import pandas as pd\n",
        "from torch.utils.data import Dataset\n",
        "from torch.utils.data import DataLoader\n",
        "import torch.nn as nn\n",
        "import matplotlib.pyplot as plt\n",
        "import torch.optim as optim\n",
        "import numpy as np\n",
        "from sklearn.model_selection import train_test_split\n",
        "\n",
        "#bert = BertModel.from_pretrained('dmis-lab/biobert-large-cased-v1.1')\n",
        "#tokenizer = BertTokenizer.from_pretrained('dmis-lab/biobert-large-cased-v1.1')\n",
        "\n",
        "bert = BertModel.from_pretrained('bert-base-uncased')\n",
        "bert_tokenizer = BertTokenizer.from_pretrained('bert-base-uncased')\n",
        "embedding_dim = bert.config.to_dict()['hidden_size']\n",
        "\n",
        "## YOU MAY CHANGE THESE HYPERPARAMETERS\n",
        "LABEL_NUM = 5\n",
        "BATCH_SIZE = 32 #16\n",
        "LEARNING_RATE = 5e-5 #1e-5\n",
        "DROPOUT_RATIO = 0.2\n",
        "MAX_EPOCH = 5\n",
        "TEST_TRAIN_RATIO = 0.3\n",
        "MAX_LEN = 256\n"
      ],
      "execution_count": 2,
      "outputs": []
    },
    {
      "cell_type": "code",
      "metadata": {
        "id": "sQf5fRPvp_-d"
      },
      "source": [
        "device = torch.device('cuda' if torch.cuda.is_available() else 'cpu')"
      ],
      "execution_count": 3,
      "outputs": []
    },
    {
      "cell_type": "code",
      "metadata": {
        "colab": {
          "base_uri": "https://localhost:8080/",
          "height": 1000
        },
        "id": "Lxvt2xsGp_-d",
        "outputId": "2e2aa8ca-3002-4847-94e5-6fe17dc13387"
      },
      "source": [
        "## if you want to use TPU on Colab, run this code\n",
        "\n",
        "!pip install cloud-tpu-client==0.10 https://storage.googleapis.com/tpu-pytorch/wheels/torch_xla-1.8.1-cp37-cp37m-linux_x86_64.whl\n",
        "import torch_xla\n",
        "import torch_xla.core.xla_model as xm\n",
        "\n",
        "device = xm.xla_device()"
      ],
      "execution_count": 19,
      "outputs": [
        {
          "output_type": "stream",
          "text": [
            "Collecting cloud-tpu-client==0.10\n",
            "  Downloading https://files.pythonhosted.org/packages/56/9f/7b1958c2886db06feb5de5b2c191096f9e619914b6c31fdf93999fdbbd8b/cloud_tpu_client-0.10-py3-none-any.whl\n",
            "Collecting torch-xla==1.8.1\n",
            "\u001b[?25l  Downloading https://storage.googleapis.com/tpu-pytorch/wheels/torch_xla-1.8.1-cp37-cp37m-linux_x86_64.whl (145.0MB)\n",
            "\u001b[K     |█████████                       | 41.2MB 47.1MB/s eta 0:00:03\u001b[31mERROR: Exception:\n",
            "Traceback (most recent call last):\n",
            "  File \"/usr/local/lib/python3.7/dist-packages/pip/_internal/cli/base_command.py\", line 153, in _main\n",
            "    status = self.run(options, args)\n",
            "  File \"/usr/local/lib/python3.7/dist-packages/pip/_internal/commands/install.py\", line 382, in run\n",
            "    resolver.resolve(requirement_set)\n",
            "  File \"/usr/local/lib/python3.7/dist-packages/pip/_internal/legacy_resolve.py\", line 201, in resolve\n",
            "    self._resolve_one(requirement_set, req)\n",
            "  File \"/usr/local/lib/python3.7/dist-packages/pip/_internal/legacy_resolve.py\", line 365, in _resolve_one\n",
            "    abstract_dist = self._get_abstract_dist_for(req_to_install)\n",
            "  File \"/usr/local/lib/python3.7/dist-packages/pip/_internal/legacy_resolve.py\", line 313, in _get_abstract_dist_for\n",
            "    req, self.session, self.finder, self.require_hashes\n",
            "  File \"/usr/local/lib/python3.7/dist-packages/pip/_internal/operations/prepare.py\", line 194, in prepare_linked_requirement\n",
            "    progress_bar=self.progress_bar\n",
            "  File \"/usr/local/lib/python3.7/dist-packages/pip/_internal/download.py\", line 465, in unpack_url\n",
            "    progress_bar=progress_bar\n",
            "  File \"/usr/local/lib/python3.7/dist-packages/pip/_internal/download.py\", line 316, in unpack_http_url\n",
            "    progress_bar)\n",
            "  File \"/usr/local/lib/python3.7/dist-packages/pip/_internal/download.py\", line 551, in _download_http_url\n",
            "    _download_url(resp, link, content_file, hashes, progress_bar)\n",
            "  File \"/usr/local/lib/python3.7/dist-packages/pip/_internal/download.py\", line 255, in _download_url\n",
            "    consume(downloaded_chunks)\n",
            "  File \"/usr/local/lib/python3.7/dist-packages/pip/_internal/utils/misc.py\", line 641, in consume\n",
            "    deque(iterator, maxlen=0)\n",
            "  File \"/usr/local/lib/python3.7/dist-packages/pip/_internal/download.py\", line 223, in written_chunks\n",
            "    for chunk in chunks:\n",
            "  File \"/usr/local/lib/python3.7/dist-packages/pip/_internal/utils/ui.py\", line 162, in iter\n",
            "    self.next(n)\n",
            "  File \"/usr/local/lib/python3.7/dist-packages/pip/_vendor/progress/__init__.py\", line 120, in next\n",
            "    self.update()\n",
            "  File \"/usr/local/lib/python3.7/dist-packages/pip/_vendor/progress/bar.py\", line 83, in update\n",
            "    self.writeln(line)\n",
            "  File \"/usr/local/lib/python3.7/dist-packages/pip/_vendor/progress/__init__.py\", line 101, in writeln\n",
            "    self.clearln()\n",
            "  File \"/usr/local/lib/python3.7/dist-packages/pip/_vendor/progress/__init__.py\", line 90, in clearln\n",
            "    print('\\r\\x1b[K', end='', file=self.file)\n",
            "  File \"/usr/local/lib/python3.7/dist-packages/pip/_internal/utils/ui.py\", line 118, in handle_sigint\n",
            "    self.finish()\n",
            "  File \"/usr/local/lib/python3.7/dist-packages/pip/_internal/utils/ui.py\", line 108, in finish\n",
            "    super(InterruptibleMixin, self).finish()\n",
            "  File \"/usr/local/lib/python3.7/dist-packages/pip/_vendor/progress/__init__.py\", line 107, in finish\n",
            "    print(file=self.file)\n",
            "RuntimeError: reentrant call inside <_io.BufferedWriter name='<stdout>'>\u001b[0m\n",
            "\u001b[K"
          ],
          "name": "stdout"
        },
        {
          "output_type": "error",
          "ename": "ModuleNotFoundError",
          "evalue": "ignored",
          "traceback": [
            "\u001b[0;31m---------------------------------------------------------------------------\u001b[0m",
            "\u001b[0;31mModuleNotFoundError\u001b[0m                       Traceback (most recent call last)",
            "\u001b[0;32m<ipython-input-19-92d20e135ded>\u001b[0m in \u001b[0;36m<module>\u001b[0;34m()\u001b[0m\n\u001b[1;32m      2\u001b[0m \u001b[0;34m\u001b[0m\u001b[0m\n\u001b[1;32m      3\u001b[0m \u001b[0mget_ipython\u001b[0m\u001b[0;34m(\u001b[0m\u001b[0;34m)\u001b[0m\u001b[0;34m.\u001b[0m\u001b[0msystem\u001b[0m\u001b[0;34m(\u001b[0m\u001b[0;34m'pip install cloud-tpu-client==0.10 https://storage.googleapis.com/tpu-pytorch/wheels/torch_xla-1.8.1-cp37-cp37m-linux_x86_64.whl'\u001b[0m\u001b[0;34m)\u001b[0m\u001b[0;34m\u001b[0m\u001b[0;34m\u001b[0m\u001b[0m\n\u001b[0;32m----> 4\u001b[0;31m \u001b[0;32mimport\u001b[0m \u001b[0mtorch_xla\u001b[0m\u001b[0;34m\u001b[0m\u001b[0;34m\u001b[0m\u001b[0m\n\u001b[0m\u001b[1;32m      5\u001b[0m \u001b[0;32mimport\u001b[0m \u001b[0mtorch_xla\u001b[0m\u001b[0;34m.\u001b[0m\u001b[0mcore\u001b[0m\u001b[0;34m.\u001b[0m\u001b[0mxla_model\u001b[0m \u001b[0;32mas\u001b[0m \u001b[0mxm\u001b[0m\u001b[0;34m\u001b[0m\u001b[0;34m\u001b[0m\u001b[0m\n\u001b[1;32m      6\u001b[0m \u001b[0;34m\u001b[0m\u001b[0m\n",
            "\u001b[0;31mModuleNotFoundError\u001b[0m: No module named 'torch_xla'",
            "",
            "\u001b[0;31m---------------------------------------------------------------------------\u001b[0;32m\nNOTE: If your import is failing due to a missing package, you can\nmanually install dependencies using either !pip or !apt.\n\nTo view examples of installing some common dependencies, click the\n\"Open Examples\" button below.\n\u001b[0;31m---------------------------------------------------------------------------\u001b[0m\n"
          ]
        }
      ]
    },
    {
      "cell_type": "code",
      "metadata": {
        "id": "6ofs9WzQp_-e"
      },
      "source": [
        "text_data = pd.read_csv('train.dat', sep = '\\t', header=None)\n",
        "df_train, df_test = train_test_split(text_data, test_size=TEST_TRAIN_RATIO)\n",
        "df_train.reset_index(drop=True, inplace = True)\n",
        "df_test.reset_index(drop=True, inplace = True)"
      ],
      "execution_count": 4,
      "outputs": []
    },
    {
      "cell_type": "markdown",
      "metadata": {
        "id": "dyBqT1ovp_-e"
      },
      "source": [
        "## Prepare Dataset for BERT\n",
        "\n",
        "### TODO : Preprocess input data\n",
        "\n",
        "#### example : when maximum length is 8\n",
        "\n",
        "- original input sentence - \"I really love you\"\n",
        "- tokenizing (use ``bert_tokenizer.tokenize``) -  ['i', 'really', 'love', 'you']\n",
        "- Add special token - ['[CLS]' 'i', 'really', 'love', 'you', '[SEP]'] (length = 6)\n",
        "- Add padding tokens to fit maximum length - ['[CLS]' 'i', 'really', 'love', 'you', '[SEP]', '[PAD]','[PAD]']\n",
        "- Convert tokens to id (use ``bert_tokenizer.convert_tokens_to_ids``)\n",
        "- make attention mask to tell which token is a padding token - [1,1,1,1,1,1,0,0]\n",
        "\n",
        "You may choose other way (even simpler) to preprocess the input text. see https://huggingface.co/transformers/main_classes/tokenizer.html#transformers.PreTrainedTokenizer or https://huggingface.co/transformers/model_doc/bert.html#berttokenizer\n"
      ]
    },
    {
      "cell_type": "code",
      "metadata": {
        "id": "lzP_HqwMp_-e"
      },
      "source": [
        "class ClinicalDataset(Dataset):\n",
        "\n",
        "    def __init__(self, dataframe, maxlen, tokenizer):\n",
        "\n",
        "        self.df = dataframe.rename(columns={0: \"label\", 1: \"text\"})\n",
        "        #Initialize the BERT tokenizer\n",
        "        self.tokenizer = tokenizer\n",
        "        \n",
        "        self.df['label'] = self.df['label'].apply(lambda x : x-1)\n",
        "\n",
        "        self.maxlen = maxlen\n",
        "\n",
        "    def __len__(self):\n",
        "        return len(self.df)\n",
        "\n",
        "    def __getitem__(self, index):\n",
        "\n",
        "        #Selecting the sentence and label at the specified index in the data frame\n",
        "        sentence = self.df.loc[index, 'text']\n",
        "        label = self.df.loc[index, 'label']\n",
        "\n",
        "        ##TODO \n",
        "        #Preprocessing the text to be suitable for BERT\n",
        "        tokens = self.tokenizer.tokenize(sentence) \n",
        "        tokens = ['[CLS]'] + tokens + ['[SEP]']\n",
        "        if len(tokens) < self.maxlen:\n",
        "            tokens = tokens + ['[PAD]' for _ in range(self.maxlen - len(tokens))]\n",
        "        else:\n",
        "            tokens = tokens[:self.maxlen-1] + ['[SEP]']\n",
        "\n",
        "        tokens_ids = self.tokenizer.convert_tokens_to_ids(tokens)\n",
        "        sequence = torch.tensor(tokens_ids)\n",
        "\n",
        "        attention_mask = (sequence != 0).long()\n",
        "\n",
        "        return sequence, attention_mask, label"
      ],
      "execution_count": 5,
      "outputs": []
    },
    {
      "cell_type": "code",
      "metadata": {
        "colab": {
          "base_uri": "https://localhost:8080/"
        },
        "id": "m9a0lwlwp_-f",
        "outputId": "6c7ddd0c-de09-4daf-a8d1-32673f2653f6"
      },
      "source": [
        "#Creating instances of training and validation set\n",
        "train_set = ClinicalDataset(df_train, maxlen = MAX_LEN,tokenizer = bert_tokenizer)\n",
        "val_set = ClinicalDataset(df_test, maxlen = MAX_LEN,tokenizer = bert_tokenizer)\n",
        "\n",
        "#Creating intsances of training and validation dataloaders\n",
        "train_loader = DataLoader(train_set, batch_size = BATCH_SIZE, num_workers = 2)\n",
        "val_loader = DataLoader(val_set, batch_size = BATCH_SIZE, num_workers = 2)\n",
        "batch = next(iter(train_loader))\n",
        "print(batch)"
      ],
      "execution_count": 6,
      "outputs": [
        {
          "output_type": "stream",
          "text": [
            "[tensor([[  101, 18834,  7277,  ...,     0,     0,     0],\n",
            "        [  101,  8040,  3917,  ...,     0,     0,     0],\n",
            "        [  101,  7490, 26721,  ...,  2001,  6560,   102],\n",
            "        ...,\n",
            "        [  101, 14978,  1012,  ...,     0,     0,     0],\n",
            "        [  101,  3276,  1997,  ...,  2558,  1997,   102],\n",
            "        [  101,  2026, 18349,  ...,  5001,  1010,   102]]), tensor([[1, 1, 1,  ..., 0, 0, 0],\n",
            "        [1, 1, 1,  ..., 0, 0, 0],\n",
            "        [1, 1, 1,  ..., 1, 1, 1],\n",
            "        ...,\n",
            "        [1, 1, 1,  ..., 0, 0, 0],\n",
            "        [1, 1, 1,  ..., 1, 1, 1],\n",
            "        [1, 1, 1,  ..., 1, 1, 1]]), tensor([3, 3, 2, 4, 0, 4, 4, 1, 4, 0, 0, 2, 3, 4, 0, 4, 2, 0, 3, 1, 4, 4, 4, 1,\n",
            "        4, 2, 3, 1, 4, 2, 4, 0])]\n"
          ],
          "name": "stdout"
        }
      ]
    },
    {
      "cell_type": "markdown",
      "metadata": {
        "id": "OWCtj9yIp_-f"
      },
      "source": [
        "## Define Neural Network\n",
        "\n",
        "### TODO : Define layers and data flow \n",
        "\n",
        "``nn.Dropout`` could be used to prevent overffiting. (parameter : dropout ratio)\n",
        "\n",
        "from ``bert.config.to_dict()['hidden_size']``, we can obtain size of embedding vector used in pretrained BERT model.\n",
        "\n",
        "Here is information about pytorch functions that used for layers (e.g. ``nn.Linear``):\n",
        "https://pytorch.org/docs/stable/nn.html\n",
        "\n",
        "Here is more information about BERT model implementation on PyTorch : https://huggingface.co/transformers/model_doc/bert.html#bertmodel\n",
        "\n",
        "\n"
      ]
    },
    {
      "cell_type": "code",
      "metadata": {
        "id": "cpkDWya7p_-f"
      },
      "source": [
        "class Classifier(nn.Module):\n",
        "\n",
        "    def __init__(self,bert,output_len,dropout):\n",
        "        super(Classifier, self).__init__()\n",
        "        ##TODO\n",
        "        #print(bert.config.to_dict()['hidden_size']) 768\n",
        "        ## Define Layers\n",
        "\n",
        "        #Instantiating BERT model object\n",
        "        self.bert = BertModel.from_pretrained('bert-base-uncased')\n",
        "\n",
        "        #Drop out\n",
        "        self.pre_classifier = nn.Linear(768, 768)\n",
        "        self.drop = nn.Dropout(dropout)\n",
        "\n",
        "        #Classification layer\n",
        "        self.cls_layer = nn.Linear(768, output_len)\n",
        "        \n",
        "\n",
        "    def forward(self, sequence, attention_masks):\n",
        "\n",
        "        ##TODO\n",
        "        ##Define data flow in neural network\n",
        "        cont_reps = self.bert(sequence, attention_mask = attention_masks)\n",
        "        cls_rep = cont_reps[0][:, 0]\n",
        "        pre_cls = self.pre_classifier(cls_rep)\n",
        "        drop_out = self.drop(pre_cls)\n",
        "        logits = self.cls_layer(drop_out)\n",
        "        \n",
        "        return logits\n"
      ],
      "execution_count": 7,
      "outputs": []
    },
    {
      "cell_type": "code",
      "metadata": {
        "id": "1nBuk2Ebp_-g"
      },
      "source": [
        "criterion = nn.CrossEntropyLoss()\n",
        "\n",
        "#device = torch.device('cpu')\n",
        "net = Classifier(bert,LABEL_NUM,DROPOUT_RATIO)\n",
        "net.to(device)\n",
        "optimizer = optim.Adam(net.parameters(), lr = LEARNING_RATE)"
      ],
      "execution_count": 8,
      "outputs": []
    },
    {
      "cell_type": "markdown",
      "metadata": {
        "id": "Ca5hf60up_-g"
      },
      "source": [
        "## Train the model"
      ]
    },
    {
      "cell_type": "code",
      "metadata": {
        "id": "lNn6_wCwp_-g"
      },
      "source": [
        "def get_accuracy(output, labels):\n",
        "\n",
        "    _, pred = torch.max(output.data, axis=1)\n",
        "    ans = (pred == labels.squeeze()).sum()\n",
        "    \n",
        "    return ans\n",
        "\n",
        "def evaluate(net, criterion, dataloader):\n",
        "    net.eval()\n",
        "\n",
        "    mean_acc, mean_loss = 0, 0\n",
        "    count = 0\n",
        "    ans = 0\n",
        "    total_num = 0\n",
        "    \n",
        "\n",
        "    with torch.no_grad():\n",
        "        for seq, attn_masks, labels in dataloader:\n",
        "            seq, attn_masks, labels = seq.to(device), attn_masks.to(device), labels.to(device)\n",
        "            output = net(seq, attn_masks)\n",
        "            mean_loss += criterion(output.squeeze(-1), labels.long()).item()\n",
        "            \n",
        "            ans += get_accuracy(output, labels)\n",
        "            total_num += labels.size(0)\n",
        "            count += 1\n",
        "\n",
        "\n",
        "    return float(ans) / float(total_num), mean_loss / count\n",
        "\n"
      ],
      "execution_count": 9,
      "outputs": []
    },
    {
      "cell_type": "code",
      "metadata": {
        "id": "zbqtgl0Up_-h"
      },
      "source": [
        "def train(net, criterion, optimizer, dataloader):\n",
        "    \n",
        "    total_loss = 0\n",
        "    count = 0\n",
        "    ans = 0\n",
        "    total_num = 0\n",
        "    net.train()\n",
        "        \n",
        "    for i, (sequence, attention_mask, labels) in enumerate(dataloader):\n",
        "        \n",
        "        \n",
        "        optimizer.zero_grad()  \n",
        "        \n",
        "        sequence, attention_mask, labels = sequence.to(device), attention_mask.to(device), labels.to(device)\n",
        "        \n",
        "        output = net(sequence, attention_mask)\n",
        "        \n",
        "        loss = criterion(output.squeeze(-1), labels.long())\n",
        "        \n",
        "        ##loss.backward() calculate gradients of each parameters\n",
        "        loss.backward()\n",
        "        \n",
        "        ##optimizer.step() updates learnable parameters in the NN using calculated gradients\n",
        "        optimizer.step()\n",
        "        #xm.optimizer_step(optimizer, barrier=True)\n",
        "        \n",
        "        total_loss += criterion(output.squeeze(-1), labels.long()).item()\n",
        "        ans += get_accuracy(output, labels)\n",
        "        total_num += labels.size(0)\n",
        "        count += 1\n",
        "        acc = float(ans)/ float(total_num)\n",
        "        mean_loss = float(total_loss/count)  \n",
        "\n",
        "        if (i + 1) % 100 == 0:\n",
        "            print(\"Iteration {} complete. Loss : {} Accuracy : {}\".format(i+1, mean_loss, acc))\n",
        "     \n",
        "    return acc, mean_loss\n",
        "    \n",
        "  "
      ],
      "execution_count": 10,
      "outputs": []
    },
    {
      "cell_type": "code",
      "metadata": {
        "colab": {
          "base_uri": "https://localhost:8080/"
        },
        "id": "VbINAQnkp_-h",
        "outputId": "743045df-bfba-4bc7-a3d1-aa22dbb82293"
      },
      "source": [
        "train_acc_list = []\n",
        "train_loss_list = []\n",
        "\n",
        "test_acc_list = []\n",
        "test_loss_list = []\n",
        "for epoch in range(MAX_EPOCH):\n",
        "    train_acc, train_loss = train(net,criterion,optimizer,train_loader)\n",
        "    test_acc, test_loss = evaluate(net,criterion,val_loader)\n",
        "    print(\"Epoch {} complete! Validation Loss : {} Validation Accuracy : {}\".format(epoch+1,test_loss,test_acc))\n",
        "    \n",
        "    train_acc_list.append(train_acc)\n",
        "    train_loss_list.append(train_loss)\n",
        "    \n",
        "    test_acc_list.append(test_acc)\n",
        "    test_loss_list.append(test_loss)"
      ],
      "execution_count": 11,
      "outputs": [
        {
          "output_type": "stream",
          "text": [
            "Iteration 100 complete. Loss : 1.1809767013788224 Accuracy : 0.5084375\n",
            "Iteration 200 complete. Loss : 1.0672844737768172 Accuracy : 0.5571875\n",
            "Iteration 300 complete. Loss : 1.0237632677952448 Accuracy : 0.5758333333333333\n",
            "Epoch 1 complete! Validation Loss : 0.9267019318307147 Validation Accuracy : 0.6048014773776547\n",
            "Iteration 100 complete. Loss : 0.843471406698227 Accuracy : 0.6459375\n",
            "Iteration 200 complete. Loss : 0.8145121014118195 Accuracy : 0.65765625\n",
            "Iteration 300 complete. Loss : 0.8067869098981222 Accuracy : 0.6611458333333333\n",
            "Epoch 2 complete! Validation Loss : 0.9139856954707819 Validation Accuracy : 0.6128808864265928\n",
            "Iteration 100 complete. Loss : 0.7195934364199639 Accuracy : 0.6959375\n",
            "Iteration 200 complete. Loss : 0.7037405353784562 Accuracy : 0.7040625\n",
            "Iteration 300 complete. Loss : 0.7002060651779175 Accuracy : 0.7032291666666667\n",
            "Epoch 3 complete! Validation Loss : 0.9987528192646363 Validation Accuracy : 0.5881809787626963\n",
            "Iteration 100 complete. Loss : 0.6312987667322159 Accuracy : 0.7334375\n",
            "Iteration 200 complete. Loss : 0.6041088435053825 Accuracy : 0.745625\n",
            "Iteration 300 complete. Loss : 0.6003007231156031 Accuracy : 0.745\n",
            "Epoch 4 complete! Validation Loss : 1.065170802614268 Validation Accuracy : 0.5888734995383195\n",
            "Iteration 100 complete. Loss : 0.5579702597856522 Accuracy : 0.7615625\n",
            "Iteration 200 complete. Loss : 0.5310197387635708 Accuracy : 0.7778125\n",
            "Iteration 300 complete. Loss : 0.5302727480729421 Accuracy : 0.7775\n",
            "Epoch 5 complete! Validation Loss : 1.1397757766877903 Validation Accuracy : 0.5738688827331486\n"
          ],
          "name": "stdout"
        }
      ]
    },
    {
      "cell_type": "code",
      "metadata": {
        "colab": {
          "base_uri": "https://localhost:8080/",
          "height": 282
        },
        "id": "zNEkXggDp_-h",
        "outputId": "601bc486-68c5-413e-ac22-0f08e3b6f6f4"
      },
      "source": [
        "x = np.arange(1,MAX_EPOCH+1,1)\n",
        "\n",
        "plt.plot(x,train_acc_list)\n",
        "plt.plot(x,test_acc_list)"
      ],
      "execution_count": 12,
      "outputs": [
        {
          "output_type": "execute_result",
          "data": {
            "text/plain": [
              "[<matplotlib.lines.Line2D at 0x7fc7e87529d0>]"
            ]
          },
          "metadata": {
            "tags": []
          },
          "execution_count": 12
        },
        {
          "output_type": "display_data",
          "data": {
            "image/png": "[encoded data removed]",
            "text/plain": [
              "<Figure size 432x288 with 1 Axes>"
            ]
          },
          "metadata": {
            "tags": [],
            "needs_background": "light"
          }
        }
      ]
    }
  ]
}