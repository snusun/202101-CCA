{
  "nbformat": 4,
  "nbformat_minor": 0,
  "metadata": {
    "colab": {
      "name": "frequent_pattern_mining_skeleton.ipynb",
      "provenance": [],
      "collapsed_sections": []
    },
    "kernelspec": {
      "name": "python3",
      "display_name": "Python 3"
    },
    "language_info": {
      "name": "python"
    }
  },
  "cells": [
    {
      "cell_type": "code",
      "metadata": {
        "colab": {
          "base_uri": "https://localhost:8080/"
        },
        "id": "jYjdWQKwxLzJ",
        "outputId": "19885158-fa51-402b-bd13-b9f0f4aa62f6"
      },
      "source": [
        "### It may be different depending on the environment.\n",
        "\n",
        "!pip install mlxtend --upgrade --no-deps\n",
        "!pip install SmilesPE\n",
        "!pip install rdkit-pypi"
      ],
      "execution_count": 5,
      "outputs": [
        {
          "output_type": "stream",
          "text": [
            "Requirement already up-to-date: mlxtend in /usr/local/lib/python3.7/dist-packages (0.18.0)\n",
            "Requirement already satisfied: SmilesPE in /usr/local/lib/python3.7/dist-packages (0.0.3)\n",
            "Requirement already satisfied: gensim in /usr/local/lib/python3.7/dist-packages (from SmilesPE) (3.6.0)\n",
            "Requirement already satisfied: fastprogress in /usr/local/lib/python3.7/dist-packages (from SmilesPE) (1.0.0)\n",
            "Requirement already satisfied: scipy>=0.18.1 in /usr/local/lib/python3.7/dist-packages (from gensim->SmilesPE) (1.4.1)\n",
            "Requirement already satisfied: six>=1.5.0 in /usr/local/lib/python3.7/dist-packages (from gensim->SmilesPE) (1.15.0)\n",
            "Requirement already satisfied: smart-open>=1.2.1 in /usr/local/lib/python3.7/dist-packages (from gensim->SmilesPE) (5.0.0)\n",
            "Requirement already satisfied: numpy>=1.11.3 in /usr/local/lib/python3.7/dist-packages (from gensim->SmilesPE) (1.19.5)\n",
            "Requirement already satisfied: rdkit-pypi in /usr/local/lib/python3.7/dist-packages (2021.3.1.4)\n"
          ],
          "name": "stdout"
        }
      ]
    },
    {
      "cell_type": "code",
      "metadata": {
        "colab": {
          "base_uri": "https://localhost:8080/"
        },
        "id": "F-OjM-rs1KNp",
        "outputId": "d90fc585-515c-4309-843d-af23119c3381"
      },
      "source": [
        "### It may be different depending on the environment.\n",
        "### Colab drive mount\n",
        "\n",
        "from google.colab import drive\n",
        "drive.mount('/content/drive')"
      ],
      "execution_count": 6,
      "outputs": [
        {
          "output_type": "stream",
          "text": [
            "Drive already mounted at /content/drive; to attempt to forcibly remount, call drive.mount(\"/content/drive\", force_remount=True).\n"
          ],
          "name": "stdout"
        }
      ]
    },
    {
      "cell_type": "code",
      "metadata": {
        "id": "xWx82AJYwvKf"
      },
      "source": [
        "### It may be different depending on the environment.\n",
        "\n",
        "import pandas as pd\n",
        "from mlxtend.frequent_patterns import apriori\n",
        "from mlxtend.frequent_patterns import fpgrowth\n",
        "from mlxtend.preprocessing import TransactionEncoder\n",
        "\n",
        "import pickle\n",
        "from rdkit import Chem\n",
        "\n",
        "from SmilesPE.pretokenizer import atomwise_tokenizer\n",
        "from SmilesPE.pretokenizer import kmer_tokenizer"
      ],
      "execution_count": 9,
      "outputs": []
    },
    {
      "cell_type": "code",
      "metadata": {
        "id": "IZFgtRRBxHql"
      },
      "source": [
        "### Example data & tutorial\n",
        "\n",
        "dataset = [['Milk', 'Onion', 'Nutmeg', 'Kidney Beans', 'Eggs', 'Yogurt'],\n",
        "           ['Dill', 'Onion', 'Nutmeg', 'Kidney Beans', 'Eggs', 'Yogurt'],\n",
        "           ['Milk', 'Apple', 'Kidney Beans', 'Eggs'],\n",
        "           ['Milk', 'Unicorn', 'Corn', 'Kidney Beans', 'Yogurt'],\n",
        "           ['Corn', 'Onion', 'Onion', 'Kidney Beans', 'Ice cream', 'Eggs']]\n"
      ],
      "execution_count": 10,
      "outputs": []
    },
    {
      "cell_type": "code",
      "metadata": {
        "colab": {
          "base_uri": "https://localhost:8080/",
          "height": 204
        },
        "id": "CLv7BCgkzVkG",
        "outputId": "a7fdded5-4d0c-48a4-dbe5-5e27dc96aeef"
      },
      "source": [
        "te = TransactionEncoder()\n",
        "te_ary = te.fit(dataset).transform(dataset)\n",
        "df = pd.DataFrame(te_ary, columns=te.columns_)\n",
        "df"
      ],
      "execution_count": 11,
      "outputs": [
        {
          "output_type": "execute_result",
          "data": {
            "text/html": [
              "<div>\n",
              "<style scoped>\n",
              "    .dataframe tbody tr th:only-of-type {\n",
              "        vertical-align: middle;\n",
              "    }\n",
              "\n",
              "    .dataframe tbody tr th {\n",
              "        vertical-align: top;\n",
              "    }\n",
              "\n",
              "    .dataframe thead th {\n",
              "        text-align: right;\n",
              "    }\n",
              "</style>\n",
              "<table border=\"1\" class=\"dataframe\">\n",
              "  <thead>\n",
              "    <tr style=\"text-align: right;\">\n",
              "      <th></th>\n",
              "      <th>Apple</th>\n",
              "      <th>Corn</th>\n",
              "      <th>Dill</th>\n",
              "      <th>Eggs</th>\n",
              "      <th>Ice cream</th>\n",
              "      <th>Kidney Beans</th>\n",
              "      <th>Milk</th>\n",
              "      <th>Nutmeg</th>\n",
              "      <th>Onion</th>\n",
              "      <th>Unicorn</th>\n",
              "      <th>Yogurt</th>\n",
              "    </tr>\n",
              "  </thead>\n",
              "  <tbody>\n",
              "    <tr>\n",
              "      <th>0</th>\n",
              "      <td>False</td>\n",
              "      <td>False</td>\n",
              "      <td>False</td>\n",
              "      <td>True</td>\n",
              "      <td>False</td>\n",
              "      <td>True</td>\n",
              "      <td>True</td>\n",
              "      <td>True</td>\n",
              "      <td>True</td>\n",
              "      <td>False</td>\n",
              "      <td>True</td>\n",
              "    </tr>\n",
              "    <tr>\n",
              "      <th>1</th>\n",
              "      <td>False</td>\n",
              "      <td>False</td>\n",
              "      <td>True</td>\n",
              "      <td>True</td>\n",
              "      <td>False</td>\n",
              "      <td>True</td>\n",
              "      <td>False</td>\n",
              "      <td>True</td>\n",
              "      <td>True</td>\n",
              "      <td>False</td>\n",
              "      <td>True</td>\n",
              "    </tr>\n",
              "    <tr>\n",
              "      <th>2</th>\n",
              "      <td>True</td>\n",
              "      <td>False</td>\n",
              "      <td>False</td>\n",
              "      <td>True</td>\n",
              "      <td>False</td>\n",
              "      <td>True</td>\n",
              "      <td>True</td>\n",
              "      <td>False</td>\n",
              "      <td>False</td>\n",
              "      <td>False</td>\n",
              "      <td>False</td>\n",
              "    </tr>\n",
              "    <tr>\n",
              "      <th>3</th>\n",
              "      <td>False</td>\n",
              "      <td>True</td>\n",
              "      <td>False</td>\n",
              "      <td>False</td>\n",
              "      <td>False</td>\n",
              "      <td>True</td>\n",
              "      <td>True</td>\n",
              "      <td>False</td>\n",
              "      <td>False</td>\n",
              "      <td>True</td>\n",
              "      <td>True</td>\n",
              "    </tr>\n",
              "    <tr>\n",
              "      <th>4</th>\n",
              "      <td>False</td>\n",
              "      <td>True</td>\n",
              "      <td>False</td>\n",
              "      <td>True</td>\n",
              "      <td>True</td>\n",
              "      <td>True</td>\n",
              "      <td>False</td>\n",
              "      <td>False</td>\n",
              "      <td>True</td>\n",
              "      <td>False</td>\n",
              "      <td>False</td>\n",
              "    </tr>\n",
              "  </tbody>\n",
              "</table>\n",
              "</div>"
            ],
            "text/plain": [
              "   Apple   Corn   Dill   Eggs  Ice cream  ...   Milk  Nutmeg  Onion  Unicorn  Yogurt\n",
              "0  False  False  False   True      False  ...   True    True   True    False    True\n",
              "1  False  False   True   True      False  ...  False    True   True    False    True\n",
              "2   True  False  False   True      False  ...   True   False  False    False   False\n",
              "3  False   True  False  False      False  ...   True   False  False     True    True\n",
              "4  False   True  False   True       True  ...  False   False   True    False   False\n",
              "\n",
              "[5 rows x 11 columns]"
            ]
          },
          "metadata": {
            "tags": []
          },
          "execution_count": 11
        }
      ]
    },
    {
      "cell_type": "code",
      "metadata": {
        "colab": {
          "base_uri": "https://localhost:8080/",
          "height": 419
        },
        "id": "aOLUuBbN3kJB",
        "outputId": "2042b101-4af4-46f7-9563-9f2efaaff425"
      },
      "source": [
        "apriori(df, min_support=0.2,use_colnames=True)"
      ],
      "execution_count": 12,
      "outputs": [
        {
          "output_type": "execute_result",
          "data": {
            "text/html": [
              "<div>\n",
              "<style scoped>\n",
              "    .dataframe tbody tr th:only-of-type {\n",
              "        vertical-align: middle;\n",
              "    }\n",
              "\n",
              "    .dataframe tbody tr th {\n",
              "        vertical-align: top;\n",
              "    }\n",
              "\n",
              "    .dataframe thead th {\n",
              "        text-align: right;\n",
              "    }\n",
              "</style>\n",
              "<table border=\"1\" class=\"dataframe\">\n",
              "  <thead>\n",
              "    <tr style=\"text-align: right;\">\n",
              "      <th></th>\n",
              "      <th>support</th>\n",
              "      <th>itemsets</th>\n",
              "    </tr>\n",
              "  </thead>\n",
              "  <tbody>\n",
              "    <tr>\n",
              "      <th>0</th>\n",
              "      <td>0.2</td>\n",
              "      <td>(Apple)</td>\n",
              "    </tr>\n",
              "    <tr>\n",
              "      <th>1</th>\n",
              "      <td>0.4</td>\n",
              "      <td>(Corn)</td>\n",
              "    </tr>\n",
              "    <tr>\n",
              "      <th>2</th>\n",
              "      <td>0.2</td>\n",
              "      <td>(Dill)</td>\n",
              "    </tr>\n",
              "    <tr>\n",
              "      <th>3</th>\n",
              "      <td>0.8</td>\n",
              "      <td>(Eggs)</td>\n",
              "    </tr>\n",
              "    <tr>\n",
              "      <th>4</th>\n",
              "      <td>0.2</td>\n",
              "      <td>(Ice cream)</td>\n",
              "    </tr>\n",
              "    <tr>\n",
              "      <th>...</th>\n",
              "      <td>...</td>\n",
              "      <td>...</td>\n",
              "    </tr>\n",
              "    <tr>\n",
              "      <th>144</th>\n",
              "      <td>0.4</td>\n",
              "      <td>(Nutmeg, Kidney Beans, Onion, Eggs, Yogurt)</td>\n",
              "    </tr>\n",
              "    <tr>\n",
              "      <th>145</th>\n",
              "      <td>0.2</td>\n",
              "      <td>(Milk, Nutmeg, Onion, Eggs, Yogurt)</td>\n",
              "    </tr>\n",
              "    <tr>\n",
              "      <th>146</th>\n",
              "      <td>0.2</td>\n",
              "      <td>(Milk, Nutmeg, Kidney Beans, Onion, Yogurt)</td>\n",
              "    </tr>\n",
              "    <tr>\n",
              "      <th>147</th>\n",
              "      <td>0.2</td>\n",
              "      <td>(Kidney Beans, Dill, Onion, Eggs, Yogurt, Nutmeg)</td>\n",
              "    </tr>\n",
              "    <tr>\n",
              "      <th>148</th>\n",
              "      <td>0.2</td>\n",
              "      <td>(Milk, Kidney Beans, Onion, Eggs, Yogurt, Nutmeg)</td>\n",
              "    </tr>\n",
              "  </tbody>\n",
              "</table>\n",
              "<p>149 rows × 2 columns</p>\n",
              "</div>"
            ],
            "text/plain": [
              "     support                                           itemsets\n",
              "0        0.2                                            (Apple)\n",
              "1        0.4                                             (Corn)\n",
              "2        0.2                                             (Dill)\n",
              "3        0.8                                             (Eggs)\n",
              "4        0.2                                        (Ice cream)\n",
              "..       ...                                                ...\n",
              "144      0.4        (Nutmeg, Kidney Beans, Onion, Eggs, Yogurt)\n",
              "145      0.2                (Milk, Nutmeg, Onion, Eggs, Yogurt)\n",
              "146      0.2        (Milk, Nutmeg, Kidney Beans, Onion, Yogurt)\n",
              "147      0.2  (Kidney Beans, Dill, Onion, Eggs, Yogurt, Nutmeg)\n",
              "148      0.2  (Milk, Kidney Beans, Onion, Eggs, Yogurt, Nutmeg)\n",
              "\n",
              "[149 rows x 2 columns]"
            ]
          },
          "metadata": {
            "tags": []
          },
          "execution_count": 12
        }
      ]
    },
    {
      "cell_type": "code",
      "metadata": {
        "colab": {
          "base_uri": "https://localhost:8080/",
          "height": 419
        },
        "id": "1MKCAhi3z1oA",
        "outputId": "9670976d-5217-4d66-c64f-15869b3e73ee"
      },
      "source": [
        "fpgrowth(df, min_support=0.2,use_colnames=True)"
      ],
      "execution_count": 13,
      "outputs": [
        {
          "output_type": "execute_result",
          "data": {
            "text/html": [
              "<div>\n",
              "<style scoped>\n",
              "    .dataframe tbody tr th:only-of-type {\n",
              "        vertical-align: middle;\n",
              "    }\n",
              "\n",
              "    .dataframe tbody tr th {\n",
              "        vertical-align: top;\n",
              "    }\n",
              "\n",
              "    .dataframe thead th {\n",
              "        text-align: right;\n",
              "    }\n",
              "</style>\n",
              "<table border=\"1\" class=\"dataframe\">\n",
              "  <thead>\n",
              "    <tr style=\"text-align: right;\">\n",
              "      <th></th>\n",
              "      <th>support</th>\n",
              "      <th>itemsets</th>\n",
              "    </tr>\n",
              "  </thead>\n",
              "  <tbody>\n",
              "    <tr>\n",
              "      <th>0</th>\n",
              "      <td>1.0</td>\n",
              "      <td>(Kidney Beans)</td>\n",
              "    </tr>\n",
              "    <tr>\n",
              "      <th>1</th>\n",
              "      <td>0.8</td>\n",
              "      <td>(Eggs)</td>\n",
              "    </tr>\n",
              "    <tr>\n",
              "      <th>2</th>\n",
              "      <td>0.6</td>\n",
              "      <td>(Yogurt)</td>\n",
              "    </tr>\n",
              "    <tr>\n",
              "      <th>3</th>\n",
              "      <td>0.6</td>\n",
              "      <td>(Onion)</td>\n",
              "    </tr>\n",
              "    <tr>\n",
              "      <th>4</th>\n",
              "      <td>0.6</td>\n",
              "      <td>(Milk)</td>\n",
              "    </tr>\n",
              "    <tr>\n",
              "      <th>...</th>\n",
              "      <td>...</td>\n",
              "      <td>...</td>\n",
              "    </tr>\n",
              "    <tr>\n",
              "      <th>144</th>\n",
              "      <td>0.2</td>\n",
              "      <td>(Ice cream, Onion, Eggs, Corn)</td>\n",
              "    </tr>\n",
              "    <tr>\n",
              "      <th>145</th>\n",
              "      <td>0.2</td>\n",
              "      <td>(Kidney Beans, Onion, Ice cream, Corn)</td>\n",
              "    </tr>\n",
              "    <tr>\n",
              "      <th>146</th>\n",
              "      <td>0.2</td>\n",
              "      <td>(Kidney Beans, Corn, Ice cream, Eggs)</td>\n",
              "    </tr>\n",
              "    <tr>\n",
              "      <th>147</th>\n",
              "      <td>0.2</td>\n",
              "      <td>(Kidney Beans, Onion, Ice cream, Eggs)</td>\n",
              "    </tr>\n",
              "    <tr>\n",
              "      <th>148</th>\n",
              "      <td>0.2</td>\n",
              "      <td>(Ice cream, Kidney Beans, Onion, Corn, Eggs)</td>\n",
              "    </tr>\n",
              "  </tbody>\n",
              "</table>\n",
              "<p>149 rows × 2 columns</p>\n",
              "</div>"
            ],
            "text/plain": [
              "     support                                      itemsets\n",
              "0        1.0                                (Kidney Beans)\n",
              "1        0.8                                        (Eggs)\n",
              "2        0.6                                      (Yogurt)\n",
              "3        0.6                                       (Onion)\n",
              "4        0.6                                        (Milk)\n",
              "..       ...                                           ...\n",
              "144      0.2                (Ice cream, Onion, Eggs, Corn)\n",
              "145      0.2        (Kidney Beans, Onion, Ice cream, Corn)\n",
              "146      0.2         (Kidney Beans, Corn, Ice cream, Eggs)\n",
              "147      0.2        (Kidney Beans, Onion, Ice cream, Eggs)\n",
              "148      0.2  (Ice cream, Kidney Beans, Onion, Corn, Eggs)\n",
              "\n",
              "[149 rows x 2 columns]"
            ]
          },
          "metadata": {
            "tags": []
          },
          "execution_count": 13
        }
      ]
    },
    {
      "cell_type": "code",
      "metadata": {
        "id": "QRM5-dCvxW30"
      },
      "source": [
        ""
      ],
      "execution_count": 13,
      "outputs": []
    },
    {
      "cell_type": "code",
      "metadata": {
        "id": "qG8J97KuzZjl",
        "colab": {
          "base_uri": "https://localhost:8080/",
          "height": 711
        },
        "outputId": "e23e11b3-c074-4f81-a456-96e8b7cd189a"
      },
      "source": [
        "### DILI data(atfer preprocessing, the number of dataset 1036 -> 835)\n",
        "\n",
        "with open(\"/content/drive/MyDrive/DILIdata/DILI.pickle\",\"rb\") as fr:\n",
        "    data = pickle.load(fr)\n",
        "data"
      ],
      "execution_count": 14,
      "outputs": [
        {
          "output_type": "execute_result",
          "data": {
            "text/html": [
              "<div>\n",
              "<style scoped>\n",
              "    .dataframe tbody tr th:only-of-type {\n",
              "        vertical-align: middle;\n",
              "    }\n",
              "\n",
              "    .dataframe tbody tr th {\n",
              "        vertical-align: top;\n",
              "    }\n",
              "\n",
              "    .dataframe thead th {\n",
              "        text-align: right;\n",
              "    }\n",
              "</style>\n",
              "<table border=\"1\" class=\"dataframe\">\n",
              "  <thead>\n",
              "    <tr style=\"text-align: right;\">\n",
              "      <th></th>\n",
              "      <th>LTKBID</th>\n",
              "      <th>Compound Name</th>\n",
              "      <th>Severity Class</th>\n",
              "      <th>Label Section</th>\n",
              "      <th>vDILIConcern</th>\n",
              "      <th>Version</th>\n",
              "      <th>smiles</th>\n",
              "    </tr>\n",
              "  </thead>\n",
              "  <tbody>\n",
              "    <tr>\n",
              "      <th>0</th>\n",
              "      <td>LT00003</td>\n",
              "      <td>mercaptopurine</td>\n",
              "      <td>8</td>\n",
              "      <td>Warnings and precautions</td>\n",
              "      <td>vMost-DILI-Concern</td>\n",
              "      <td>1</td>\n",
              "      <td>S=C1N=CNc2nc[nH]c12</td>\n",
              "    </tr>\n",
              "    <tr>\n",
              "      <th>1</th>\n",
              "      <td>LT00004</td>\n",
              "      <td>acetaminophen</td>\n",
              "      <td>5</td>\n",
              "      <td>Warnings and precautions</td>\n",
              "      <td>vMost-DILI-Concern</td>\n",
              "      <td>2</td>\n",
              "      <td>CC(=O)Nc1ccc(O)cc1</td>\n",
              "    </tr>\n",
              "    <tr>\n",
              "      <th>2</th>\n",
              "      <td>LT00006</td>\n",
              "      <td>azathioprine</td>\n",
              "      <td>5</td>\n",
              "      <td>Warnings and precautions</td>\n",
              "      <td>vMost-DILI-Concern</td>\n",
              "      <td>1</td>\n",
              "      <td>Cn1cnc(c1Sc2ncnc3nc[nH]c23)[N+]([O-])=O</td>\n",
              "    </tr>\n",
              "    <tr>\n",
              "      <th>3</th>\n",
              "      <td>LT00009</td>\n",
              "      <td>chlorpheniramine</td>\n",
              "      <td>0</td>\n",
              "      <td>No match</td>\n",
              "      <td>vNo-DILI-Concern</td>\n",
              "      <td>2</td>\n",
              "      <td>CN(C)CCC(c1ccc(Cl)cc1)c2ccccn2.OC(=O)\\C=C/C(O)=O</td>\n",
              "    </tr>\n",
              "    <tr>\n",
              "      <th>4</th>\n",
              "      <td>LT00011</td>\n",
              "      <td>clofibrate</td>\n",
              "      <td>3</td>\n",
              "      <td>Warnings and precautions</td>\n",
              "      <td>vLess-DILI-Concern</td>\n",
              "      <td>1</td>\n",
              "      <td>CCOC(=O)C(C)(C)Oc1ccc(Cl)cc1</td>\n",
              "    </tr>\n",
              "    <tr>\n",
              "      <th>...</th>\n",
              "      <td>...</td>\n",
              "      <td>...</td>\n",
              "      <td>...</td>\n",
              "      <td>...</td>\n",
              "      <td>...</td>\n",
              "      <td>...</td>\n",
              "      <td>...</td>\n",
              "    </tr>\n",
              "    <tr>\n",
              "      <th>1020</th>\n",
              "      <td>LT02346</td>\n",
              "      <td>clindamycin-2-phosphate</td>\n",
              "      <td>3</td>\n",
              "      <td>Warnings and precautions</td>\n",
              "      <td>Ambiguous DILI-concern</td>\n",
              "      <td>2</td>\n",
              "      <td>CCCC1CC(N(C)C1)C(=O)NC(C(C)Cl)C2OC(SC)C(O[P](O...</td>\n",
              "    </tr>\n",
              "    <tr>\n",
              "      <th>1021</th>\n",
              "      <td>LT02356</td>\n",
              "      <td>tyramine</td>\n",
              "      <td>0</td>\n",
              "      <td>No match</td>\n",
              "      <td>vNo-DILI-Concern</td>\n",
              "      <td>2</td>\n",
              "      <td>NCCc1ccc(O)cc1</td>\n",
              "    </tr>\n",
              "    <tr>\n",
              "      <th>1031</th>\n",
              "      <td>LT02449</td>\n",
              "      <td>sitaxsentan</td>\n",
              "      <td>8</td>\n",
              "      <td>Withdrawn</td>\n",
              "      <td>vMost-DILI-Concern</td>\n",
              "      <td>2</td>\n",
              "      <td>Cc1cc2OCOc2cc1CC(=O)c3sccc3[S](=O)(=O)Nc4onc(C...</td>\n",
              "    </tr>\n",
              "    <tr>\n",
              "      <th>1033</th>\n",
              "      <td>LT02909</td>\n",
              "      <td>dexmethylphenidate</td>\n",
              "      <td>7</td>\n",
              "      <td>Adverse reactions</td>\n",
              "      <td>vLess-DILI-Concern</td>\n",
              "      <td>2</td>\n",
              "      <td>COC(=O)[C@@H]([C@H]1CCCCN1)c2ccccc2</td>\n",
              "    </tr>\n",
              "    <tr>\n",
              "      <th>1035</th>\n",
              "      <td>LT02929</td>\n",
              "      <td>escitalopram</td>\n",
              "      <td>7</td>\n",
              "      <td>Adverse reactions</td>\n",
              "      <td>vLess-DILI-Concern</td>\n",
              "      <td>2</td>\n",
              "      <td>CN(C)CCC[C@]1(OCc2cc(ccc12)C#N)c3ccc(F)cc3</td>\n",
              "    </tr>\n",
              "  </tbody>\n",
              "</table>\n",
              "<p>835 rows × 7 columns</p>\n",
              "</div>"
            ],
            "text/plain": [
              "       LTKBID  ...                                             smiles\n",
              "0     LT00003  ...                                S=C1N=CNc2nc[nH]c12\n",
              "1     LT00004  ...                                 CC(=O)Nc1ccc(O)cc1\n",
              "2     LT00006  ...            Cn1cnc(c1Sc2ncnc3nc[nH]c23)[N+]([O-])=O\n",
              "3     LT00009  ...   CN(C)CCC(c1ccc(Cl)cc1)c2ccccn2.OC(=O)\\C=C/C(O)=O\n",
              "4     LT00011  ...                       CCOC(=O)C(C)(C)Oc1ccc(Cl)cc1\n",
              "...       ...  ...                                                ...\n",
              "1020  LT02346  ...  CCCC1CC(N(C)C1)C(=O)NC(C(C)Cl)C2OC(SC)C(O[P](O...\n",
              "1021  LT02356  ...                                     NCCc1ccc(O)cc1\n",
              "1031  LT02449  ...  Cc1cc2OCOc2cc1CC(=O)c3sccc3[S](=O)(=O)Nc4onc(C...\n",
              "1033  LT02909  ...                COC(=O)[C@@H]([C@H]1CCCCN1)c2ccccc2\n",
              "1035  LT02929  ...         CN(C)CCC[C@]1(OCc2cc(ccc12)C#N)c3ccc(F)cc3\n",
              "\n",
              "[835 rows x 7 columns]"
            ]
          },
          "metadata": {
            "tags": []
          },
          "execution_count": 14
        }
      ]
    },
    {
      "cell_type": "code",
      "metadata": {
        "id": "zJkd5ij_3RTX"
      },
      "source": [
        "positive=list(data[data[\"vDILIConcern\"]==\"vMost-DILI-Concern\"][\"smiles\"])\n",
        "negative=list(data[data[\"vDILIConcern\"]==\"vNo-DILI-Concern\"][\"smiles\"])"
      ],
      "execution_count": 15,
      "outputs": []
    },
    {
      "cell_type": "code",
      "metadata": {
        "id": "27xRyu5n372B"
      },
      "source": [
        "n_gram=3\n",
        "n_augmentation=20"
      ],
      "execution_count": 37,
      "outputs": []
    },
    {
      "cell_type": "code",
      "metadata": {
        "id": "picWMi773SWm"
      },
      "source": [
        "### Positive data handling\n",
        "positivedb=[]\n",
        "for i in range(len(positive)):\n",
        "    if \".\" not in positive[i]: ### \".\" make our work complicated. So we except some data including \".\"\n",
        "        for j in range(n_augmentation):\n",
        "            mol = Chem.MolFromSmiles(positive[i])\n",
        "            newstr = Chem.rdmolfiles.MolToSmiles(mol=mol, doRandom=True)\n",
        "            positivedb.append(kmer_tokenizer(newstr, ngram=n_gram))"
      ],
      "execution_count": 38,
      "outputs": []
    },
    {
      "cell_type": "code",
      "metadata": {
        "id": "BWAkZRh84FIV"
      },
      "source": [
        "### Negative data handling\n",
        "negativedb=[]\n",
        "for i in range(len(negative)):\n",
        "    if \".\" not in negative[i]: ### \".\" make our work complicated. So we except some data including \".\"\n",
        "        for j in range(n_augmentation):\n",
        "            try: ### Some invalied string will make some error\n",
        "                mol = Chem.MolFromSmiles(negative[i])\n",
        "\n",
        "                newstr = Chem.rdmolfiles.MolToSmiles(mol=mol, doRandom=True)\n",
        "                negativedb.append(kmer_tokenizer(newstr, ngram=n_gram))\n",
        "            except:\n",
        "                pass"
      ],
      "execution_count": 39,
      "outputs": []
    },
    {
      "cell_type": "code",
      "metadata": {
        "id": "LpQhv1OYIIRe"
      },
      "source": [
        ""
      ],
      "execution_count": 39,
      "outputs": []
    },
    {
      "cell_type": "code",
      "metadata": {
        "id": "EUJvVEmaIO2b"
      },
      "source": [
        "### Frequent pattern mining"
      ],
      "execution_count": 40,
      "outputs": []
    },
    {
      "cell_type": "code",
      "metadata": {
        "id": "1ko2JH-jDhYw"
      },
      "source": [
        "min_support=0.25"
      ],
      "execution_count": 41,
      "outputs": []
    },
    {
      "cell_type": "code",
      "metadata": {
        "id": "TyJhVGXe-f4H"
      },
      "source": [
        "dataset=positivedb\n",
        "\n",
        "te = TransactionEncoder()\n",
        "te_ary = te.fit(dataset).transform(dataset)\n",
        "df = pd.DataFrame(te_ary, columns=te.columns_)"
      ],
      "execution_count": 42,
      "outputs": []
    },
    {
      "cell_type": "code",
      "metadata": {
        "colab": {
          "base_uri": "https://localhost:8080/",
          "height": 419
        },
        "id": "OtrLxzhG4LWG",
        "outputId": "cf67ebc4-cbb7-4877-d588-429ba88bc887"
      },
      "source": [
        "positive_result = apriori(df, min_support=min_support, use_colnames=True)\n",
        "positive_result"
      ],
      "execution_count": 43,
      "outputs": [
        {
          "output_type": "execute_result",
          "data": {
            "text/html": [
              "<div>\n",
              "<style scoped>\n",
              "    .dataframe tbody tr th:only-of-type {\n",
              "        vertical-align: middle;\n",
              "    }\n",
              "\n",
              "    .dataframe tbody tr th {\n",
              "        vertical-align: top;\n",
              "    }\n",
              "\n",
              "    .dataframe thead th {\n",
              "        text-align: right;\n",
              "    }\n",
              "</style>\n",
              "<table border=\"1\" class=\"dataframe\">\n",
              "  <thead>\n",
              "    <tr style=\"text-align: right;\">\n",
              "      <th></th>\n",
              "      <th>support</th>\n",
              "      <th>itemsets</th>\n",
              "    </tr>\n",
              "  </thead>\n",
              "  <tbody>\n",
              "    <tr>\n",
              "      <th>0</th>\n",
              "      <td>0.500000</td>\n",
              "      <td>((=O)</td>\n",
              "    </tr>\n",
              "    <tr>\n",
              "      <th>1</th>\n",
              "      <td>0.272293</td>\n",
              "      <td>((C()</td>\n",
              "    </tr>\n",
              "    <tr>\n",
              "      <th>2</th>\n",
              "      <td>0.410510</td>\n",
              "      <td>((C))</td>\n",
              "    </tr>\n",
              "    <tr>\n",
              "      <th>3</th>\n",
              "      <td>0.251911</td>\n",
              "      <td>((CC)</td>\n",
              "    </tr>\n",
              "    <tr>\n",
              "      <th>4</th>\n",
              "      <td>0.253503</td>\n",
              "      <td>((O))</td>\n",
              "    </tr>\n",
              "    <tr>\n",
              "      <th>...</th>\n",
              "      <td>...</td>\n",
              "      <td>...</td>\n",
              "    </tr>\n",
              "    <tr>\n",
              "      <th>193</th>\n",
              "      <td>0.261146</td>\n",
              "      <td>(=O), ccc, cc1, cc()</td>\n",
              "    </tr>\n",
              "    <tr>\n",
              "      <th>194</th>\n",
              "      <td>0.277707</td>\n",
              "      <td>(c(c, c1c, ccc, cc()</td>\n",
              "    </tr>\n",
              "    <tr>\n",
              "      <th>195</th>\n",
              "      <td>0.276433</td>\n",
              "      <td>(c1c, ccc, cc1, cc()</td>\n",
              "    </tr>\n",
              "    <tr>\n",
              "      <th>196</th>\n",
              "      <td>0.250318</td>\n",
              "      <td>(ccc, cc(, c1c, =O), 1cc)</td>\n",
              "    </tr>\n",
              "    <tr>\n",
              "      <th>197</th>\n",
              "      <td>0.252229</td>\n",
              "      <td>(ccc, cc(, c1c, 1cc, cc1)</td>\n",
              "    </tr>\n",
              "  </tbody>\n",
              "</table>\n",
              "<p>198 rows × 2 columns</p>\n",
              "</div>"
            ],
            "text/plain": [
              "      support                   itemsets\n",
              "0    0.500000                      ((=O)\n",
              "1    0.272293                      ((C()\n",
              "2    0.410510                      ((C))\n",
              "3    0.251911                      ((CC)\n",
              "4    0.253503                      ((O))\n",
              "..        ...                        ...\n",
              "193  0.261146       (=O), ccc, cc1, cc()\n",
              "194  0.277707       (c(c, c1c, ccc, cc()\n",
              "195  0.276433       (c1c, ccc, cc1, cc()\n",
              "196  0.250318  (ccc, cc(, c1c, =O), 1cc)\n",
              "197  0.252229  (ccc, cc(, c1c, 1cc, cc1)\n",
              "\n",
              "[198 rows x 2 columns]"
            ]
          },
          "metadata": {
            "tags": []
          },
          "execution_count": 43
        }
      ]
    },
    {
      "cell_type": "code",
      "metadata": {
        "colab": {
          "base_uri": "https://localhost:8080/",
          "height": 419
        },
        "id": "HZjNqN8u58o2",
        "outputId": "5fee5529-1695-4c3c-d578-4b1bd7127b25"
      },
      "source": [
        "positive_result = fpgrowth(df, min_support=min_support, use_colnames=True)\n",
        "positive_result"
      ],
      "execution_count": 44,
      "outputs": [
        {
          "output_type": "execute_result",
          "data": {
            "text/html": [
              "<div>\n",
              "<style scoped>\n",
              "    .dataframe tbody tr th:only-of-type {\n",
              "        vertical-align: middle;\n",
              "    }\n",
              "\n",
              "    .dataframe tbody tr th {\n",
              "        vertical-align: top;\n",
              "    }\n",
              "\n",
              "    .dataframe thead th {\n",
              "        text-align: right;\n",
              "    }\n",
              "</style>\n",
              "<table border=\"1\" class=\"dataframe\">\n",
              "  <thead>\n",
              "    <tr style=\"text-align: right;\">\n",
              "      <th></th>\n",
              "      <th>support</th>\n",
              "      <th>itemsets</th>\n",
              "    </tr>\n",
              "  </thead>\n",
              "  <tbody>\n",
              "    <tr>\n",
              "      <th>0</th>\n",
              "      <td>0.439172</td>\n",
              "      <td>(c2c)</td>\n",
              "    </tr>\n",
              "    <tr>\n",
              "      <th>1</th>\n",
              "      <td>0.522611</td>\n",
              "      <td>(c(c)</td>\n",
              "    </tr>\n",
              "    <tr>\n",
              "      <th>2</th>\n",
              "      <td>0.609554</td>\n",
              "      <td>(c1c)</td>\n",
              "    </tr>\n",
              "    <tr>\n",
              "      <th>3</th>\n",
              "      <td>0.419427</td>\n",
              "      <td>(c1))</td>\n",
              "    </tr>\n",
              "    <tr>\n",
              "      <th>4</th>\n",
              "      <td>0.691720</td>\n",
              "      <td>(=O))</td>\n",
              "    </tr>\n",
              "    <tr>\n",
              "      <th>...</th>\n",
              "      <td>...</td>\n",
              "      <td>...</td>\n",
              "    </tr>\n",
              "    <tr>\n",
              "      <th>193</th>\n",
              "      <td>0.255414</td>\n",
              "      <td>(c1c, )=O, =O))</td>\n",
              "    </tr>\n",
              "    <tr>\n",
              "      <th>194</th>\n",
              "      <td>0.268471</td>\n",
              "      <td>((C), C)C)</td>\n",
              "    </tr>\n",
              "    <tr>\n",
              "      <th>195</th>\n",
              "      <td>0.302866</td>\n",
              "      <td>(c2c, cc2)</td>\n",
              "    </tr>\n",
              "    <tr>\n",
              "      <th>196</th>\n",
              "      <td>0.294586</td>\n",
              "      <td>(ccc, cc2)</td>\n",
              "    </tr>\n",
              "    <tr>\n",
              "      <th>197</th>\n",
              "      <td>0.271656</td>\n",
              "      <td>(c2c, ccc, cc2)</td>\n",
              "    </tr>\n",
              "  </tbody>\n",
              "</table>\n",
              "<p>198 rows × 2 columns</p>\n",
              "</div>"
            ],
            "text/plain": [
              "      support         itemsets\n",
              "0    0.439172            (c2c)\n",
              "1    0.522611            (c(c)\n",
              "2    0.609554            (c1c)\n",
              "3    0.419427            (c1))\n",
              "4    0.691720            (=O))\n",
              "..        ...              ...\n",
              "193  0.255414  (c1c, )=O, =O))\n",
              "194  0.268471       ((C), C)C)\n",
              "195  0.302866       (c2c, cc2)\n",
              "196  0.294586       (ccc, cc2)\n",
              "197  0.271656  (c2c, ccc, cc2)\n",
              "\n",
              "[198 rows x 2 columns]"
            ]
          },
          "metadata": {
            "tags": []
          },
          "execution_count": 44
        }
      ]
    },
    {
      "cell_type": "code",
      "metadata": {
        "id": "oTu5-sUI-kfH"
      },
      "source": [
        "dataset=negativedb\n",
        "\n",
        "te = TransactionEncoder()\n",
        "te_ary = te.fit(dataset).transform(dataset)\n",
        "df = pd.DataFrame(te_ary, columns=te.columns_)"
      ],
      "execution_count": 45,
      "outputs": []
    },
    {
      "cell_type": "code",
      "metadata": {
        "colab": {
          "base_uri": "https://localhost:8080/",
          "height": 419
        },
        "id": "DcLuRJH05709",
        "outputId": "1f045e0a-cb0c-46b9-8d7d-5f9752418ebb"
      },
      "source": [
        "negative_result = apriori(df, min_support=min_support, use_colnames=True)\n",
        "negative_result"
      ],
      "execution_count": 46,
      "outputs": [
        {
          "output_type": "execute_result",
          "data": {
            "text/html": [
              "<div>\n",
              "<style scoped>\n",
              "    .dataframe tbody tr th:only-of-type {\n",
              "        vertical-align: middle;\n",
              "    }\n",
              "\n",
              "    .dataframe tbody tr th {\n",
              "        vertical-align: top;\n",
              "    }\n",
              "\n",
              "    .dataframe thead th {\n",
              "        text-align: right;\n",
              "    }\n",
              "</style>\n",
              "<table border=\"1\" class=\"dataframe\">\n",
              "  <thead>\n",
              "    <tr style=\"text-align: right;\">\n",
              "      <th></th>\n",
              "      <th>support</th>\n",
              "      <th>itemsets</th>\n",
              "    </tr>\n",
              "  </thead>\n",
              "  <tbody>\n",
              "    <tr>\n",
              "      <th>0</th>\n",
              "      <td>0.384677</td>\n",
              "      <td>((=O)</td>\n",
              "    </tr>\n",
              "    <tr>\n",
              "      <th>1</th>\n",
              "      <td>0.320430</td>\n",
              "      <td>((C()</td>\n",
              "    </tr>\n",
              "    <tr>\n",
              "      <th>2</th>\n",
              "      <td>0.471237</td>\n",
              "      <td>((C))</td>\n",
              "    </tr>\n",
              "    <tr>\n",
              "      <th>3</th>\n",
              "      <td>0.431720</td>\n",
              "      <td>((CC)</td>\n",
              "    </tr>\n",
              "    <tr>\n",
              "      <th>4</th>\n",
              "      <td>0.364516</td>\n",
              "      <td>((O))</td>\n",
              "    </tr>\n",
              "    <tr>\n",
              "      <th>...</th>\n",
              "      <td>...</td>\n",
              "      <td>...</td>\n",
              "    </tr>\n",
              "    <tr>\n",
              "      <th>76</th>\n",
              "      <td>0.288172</td>\n",
              "      <td>(c1), c1c, ccc)</td>\n",
              "    </tr>\n",
              "    <tr>\n",
              "      <th>77</th>\n",
              "      <td>0.260753</td>\n",
              "      <td>(c1), ccc, cc1)</td>\n",
              "    </tr>\n",
              "    <tr>\n",
              "      <th>78</th>\n",
              "      <td>0.272849</td>\n",
              "      <td>(c1c, ccc, cc()</td>\n",
              "    </tr>\n",
              "    <tr>\n",
              "      <th>79</th>\n",
              "      <td>0.360484</td>\n",
              "      <td>(c1c, ccc, cc1)</td>\n",
              "    </tr>\n",
              "    <tr>\n",
              "      <th>80</th>\n",
              "      <td>0.299194</td>\n",
              "      <td>(c1c, 1cc, ccc, cc1)</td>\n",
              "    </tr>\n",
              "  </tbody>\n",
              "</table>\n",
              "<p>81 rows × 2 columns</p>\n",
              "</div>"
            ],
            "text/plain": [
              "     support              itemsets\n",
              "0   0.384677                 ((=O)\n",
              "1   0.320430                 ((C()\n",
              "2   0.471237                 ((C))\n",
              "3   0.431720                 ((CC)\n",
              "4   0.364516                 ((O))\n",
              "..       ...                   ...\n",
              "76  0.288172       (c1), c1c, ccc)\n",
              "77  0.260753       (c1), ccc, cc1)\n",
              "78  0.272849       (c1c, ccc, cc()\n",
              "79  0.360484       (c1c, ccc, cc1)\n",
              "80  0.299194  (c1c, 1cc, ccc, cc1)\n",
              "\n",
              "[81 rows x 2 columns]"
            ]
          },
          "metadata": {
            "tags": []
          },
          "execution_count": 46
        }
      ]
    },
    {
      "cell_type": "code",
      "metadata": {
        "colab": {
          "base_uri": "https://localhost:8080/",
          "height": 419
        },
        "id": "yziEPD5x6C9n",
        "outputId": "2795c6fe-f379-4e56-e17e-5ee86145dbb8"
      },
      "source": [
        "negative_result = fpgrowth(df, min_support=min_support, use_colnames=True)\n",
        "negative_result"
      ],
      "execution_count": 47,
      "outputs": [
        {
          "output_type": "execute_result",
          "data": {
            "text/html": [
              "<div>\n",
              "<style scoped>\n",
              "    .dataframe tbody tr th:only-of-type {\n",
              "        vertical-align: middle;\n",
              "    }\n",
              "\n",
              "    .dataframe tbody tr th {\n",
              "        vertical-align: top;\n",
              "    }\n",
              "\n",
              "    .dataframe thead th {\n",
              "        text-align: right;\n",
              "    }\n",
              "</style>\n",
              "<table border=\"1\" class=\"dataframe\">\n",
              "  <thead>\n",
              "    <tr style=\"text-align: right;\">\n",
              "      <th></th>\n",
              "      <th>support</th>\n",
              "      <th>itemsets</th>\n",
              "    </tr>\n",
              "  </thead>\n",
              "  <tbody>\n",
              "    <tr>\n",
              "      <th>0</th>\n",
              "      <td>0.542204</td>\n",
              "      <td>(c1c)</td>\n",
              "    </tr>\n",
              "    <tr>\n",
              "      <th>1</th>\n",
              "      <td>0.431720</td>\n",
              "      <td>((CC)</td>\n",
              "    </tr>\n",
              "    <tr>\n",
              "      <th>2</th>\n",
              "      <td>0.425269</td>\n",
              "      <td>(cc()</td>\n",
              "    </tr>\n",
              "    <tr>\n",
              "      <th>3</th>\n",
              "      <td>0.372849</td>\n",
              "      <td>(c1))</td>\n",
              "    </tr>\n",
              "    <tr>\n",
              "      <th>4</th>\n",
              "      <td>0.370161</td>\n",
              "      <td>(c(c)</td>\n",
              "    </tr>\n",
              "    <tr>\n",
              "      <th>...</th>\n",
              "      <td>...</td>\n",
              "      <td>...</td>\n",
              "    </tr>\n",
              "    <tr>\n",
              "      <th>76</th>\n",
              "      <td>0.343817</td>\n",
              "      <td>((C), C)C)</td>\n",
              "    </tr>\n",
              "    <tr>\n",
              "      <th>77</th>\n",
              "      <td>0.311828</td>\n",
              "      <td>(ccc, C)C)</td>\n",
              "    </tr>\n",
              "    <tr>\n",
              "      <th>78</th>\n",
              "      <td>0.268817</td>\n",
              "      <td>(c1c, C)C)</td>\n",
              "    </tr>\n",
              "    <tr>\n",
              "      <th>79</th>\n",
              "      <td>0.281989</td>\n",
              "      <td>(=O), C)C)</td>\n",
              "    </tr>\n",
              "    <tr>\n",
              "      <th>80</th>\n",
              "      <td>0.265323</td>\n",
              "      <td>()C), C)C)</td>\n",
              "    </tr>\n",
              "  </tbody>\n",
              "</table>\n",
              "<p>81 rows × 2 columns</p>\n",
              "</div>"
            ],
            "text/plain": [
              "     support    itemsets\n",
              "0   0.542204       (c1c)\n",
              "1   0.431720       ((CC)\n",
              "2   0.425269       (cc()\n",
              "3   0.372849       (c1))\n",
              "4   0.370161       (c(c)\n",
              "..       ...         ...\n",
              "76  0.343817  ((C), C)C)\n",
              "77  0.311828  (ccc, C)C)\n",
              "78  0.268817  (c1c, C)C)\n",
              "79  0.281989  (=O), C)C)\n",
              "80  0.265323  ()C), C)C)\n",
              "\n",
              "[81 rows x 2 columns]"
            ]
          },
          "metadata": {
            "tags": []
          },
          "execution_count": 47
        }
      ]
    },
    {
      "cell_type": "code",
      "metadata": {
        "id": "BLQv793TIGha"
      },
      "source": [
        ""
      ],
      "execution_count": 47,
      "outputs": []
    },
    {
      "cell_type": "code",
      "metadata": {
        "id": "IXQRSmaYIT1m"
      },
      "source": [
        "### Dividing shared patterns(frequent patterns in both of P/N) after mining"
      ],
      "execution_count": 48,
      "outputs": []
    },
    {
      "cell_type": "code",
      "metadata": {
        "id": "a0HDaQrP6EmH"
      },
      "source": [
        "positive_result = [ (list(positive_result['itemsets'][i]), positive_result['support'][i]) for i in range(len(positive_result)) ]\n",
        "negative_result = [ (list(negative_result['itemsets'][i]), negative_result['support'][i]) for i in range(len(negative_result)) ]"
      ],
      "execution_count": 49,
      "outputs": []
    },
    {
      "cell_type": "code",
      "metadata": {
        "id": "UMbTHp3k-xNw"
      },
      "source": [
        "share_positive_result = []\n",
        "pure_positive_result = []\n",
        "for i in positive_result:\n",
        "    ch=0\n",
        "    for j in negative_result:\n",
        "        if i[0]==j[0]:\n",
        "            share_positive_result.append(i)\n",
        "            ch=1\n",
        "            break\n",
        "    if ch==0:\n",
        "        pure_positive_result.append(i)"
      ],
      "execution_count": 50,
      "outputs": []
    },
    {
      "cell_type": "code",
      "metadata": {
        "id": "u-KXPxur_Q_E"
      },
      "source": [
        "share_negative_result = []\n",
        "pure_negative_result = []\n",
        "for i in negative_result:\n",
        "    ch=0\n",
        "    for j in positive_result:\n",
        "        if i[0]==j[0]:\n",
        "            share_negative_result.append(i)\n",
        "            ch=1\n",
        "            break\n",
        "    if ch==0:\n",
        "        pure_negative_result.append(i)"
      ],
      "execution_count": 51,
      "outputs": []
    },
    {
      "cell_type": "code",
      "metadata": {
        "colab": {
          "base_uri": "https://localhost:8080/"
        },
        "id": "ek05qwn8_SUg",
        "outputId": "60604e71-de79-4d7f-bb00-82dda634c8c4"
      },
      "source": [
        "print(len(pure_positive_result))\n",
        "pure_positive_result"
      ],
      "execution_count": 52,
      "outputs": [
        {
          "output_type": "stream",
          "text": [
            "139\n"
          ],
          "name": "stdout"
        },
        {
          "output_type": "execute_result",
          "data": {
            "text/plain": [
              "[(['O)c'], 0.2984076433121019),\n",
              " (['cc2'], 0.3305732484076433),\n",
              " (['2cc'], 0.25127388535031847),\n",
              " (['c2c', 'c1c'], 0.2843949044585987),\n",
              " (['c2c', '=O)'], 0.30668789808917196),\n",
              " (['c(c', 'c2c'], 0.28152866242038216),\n",
              " (['c2c', 'ccc'], 0.3681528662420382),\n",
              " (['c2c', 'cc('], 0.29904458598726114),\n",
              " (['c2c', '=O)', 'ccc'], 0.2605095541401274),\n",
              " (['c2c', 'ccc', 'cc('], 0.2700636942675159),\n",
              " (['c(c', '=O)'], 0.38757961783439493),\n",
              " (['c(c', 'ccc', 'cc('], 0.35509554140127386),\n",
              " (['c(c', '=O)', 'cc('], 0.31878980891719744),\n",
              " (['c(c', '=O)', 'ccc'], 0.3076433121019108),\n",
              " (['c(c', '=O)', 'ccc', 'cc('], 0.2735668789808917),\n",
              " (['c(c', 'c1c', 'cc('], 0.32579617834394903),\n",
              " (['c(c', 'c1c', 'ccc'], 0.3200636942675159),\n",
              " (['c(c', '=O)', 'c1c'], 0.2875796178343949),\n",
              " (['c(c', 'c1c', 'ccc', 'cc('], 0.27770700636942675),\n",
              " (['=O)', 'c1c'], 0.43630573248407645),\n",
              " (['=O)', 'c1c', 'ccc'], 0.3703821656050955),\n",
              " (['c(c', 'c1)'], 0.3076433121019108),\n",
              " (['c1)', 'cc('], 0.3070063694267516),\n",
              " (['c1)', '=O)'], 0.3050955414012739),\n",
              " (['c(c', 'c1)', 'ccc'], 0.25127388535031847),\n",
              " (['c(c', 'c1)', 'c1c'], 0.2665605095541401),\n",
              " (['c1)', 'ccc', 'cc('], 0.26847133757961783),\n",
              " (['c(c', 'c1)', 'cc('], 0.2576433121019108),\n",
              " (['c1)', 'c1c', 'cc('], 0.2735668789808917),\n",
              " (['c1)', '=O)', 'ccc'], 0.2570063694267516),\n",
              " (['c1c', 'c1)', '=O)'], 0.260828025477707),\n",
              " (['c1)', 'c1c', '1cc'], 0.2735668789808917),\n",
              " (['c1)', 'ccc', '1cc'], 0.25254777070063694),\n",
              " (['c1)', 'c1c', 'ccc', '1cc'], 0.25095541401273885),\n",
              " (['=O)', 'cc('], 0.4515923566878981),\n",
              " (['=O)', 'ccc', 'cc('], 0.39363057324840767),\n",
              " (['=O)', 'c1c', 'cc('], 0.3401273885350318),\n",
              " (['=O)', 'c1c', 'ccc', 'cc('], 0.30254777070063693),\n",
              " (['=O)', 'cc1'], 0.37515923566878984),\n",
              " (['cc1', 'cc('], 0.3506369426751592),\n",
              " (['c(c', 'cc1'], 0.3089171974522293),\n",
              " (['=O)', 'ccc', 'cc1'], 0.32643312101910826),\n",
              " (['c1c', '=O)', 'cc1'], 0.3127388535031847),\n",
              " (['c1c', '=O)', 'ccc', 'cc1'], 0.27993630573248407),\n",
              " (['ccc', 'cc1', 'cc('], 0.31751592356687897),\n",
              " (['=O)', 'cc1', 'cc('], 0.28152866242038216),\n",
              " (['c1c', 'cc1', 'cc('], 0.30254777070063693),\n",
              " (['=O)', 'ccc', 'cc1', 'cc('], 0.2611464968152866),\n",
              " (['c1c', 'ccc', 'cc1', 'cc('], 0.2764331210191083),\n",
              " (['c(c', 'ccc', 'cc1'], 0.2643312101910828),\n",
              " (['c(c', 'cc1', 'cc('], 0.2550955414012739),\n",
              " (['c(c', 'c1c', 'cc1'], 0.26719745222929936),\n",
              " (['(=O', 'ccc'], 0.36210191082802545),\n",
              " (['(=O', 'cc('], 0.3273885350318471),\n",
              " (['(=O', 'c(c'], 0.2789808917197452),\n",
              " (['(=O', 'cc1'], 0.27579617834394904),\n",
              " (['(=O', 'c1c'], 0.32452229299363056),\n",
              " (['(=O', '=O)', 'ccc'], 0.36210191082802545),\n",
              " (['(=O', '=O)', 'cc('], 0.3273885350318471),\n",
              " (['(=O', 'ccc', 'cc('], 0.2914012738853503),\n",
              " (['(=O', '=O)', 'ccc', 'cc('], 0.2914012738853503),\n",
              " (['(=O', '=O)', 'c(c'], 0.2789808917197452),\n",
              " (['(=O', '=O)', 'cc1'], 0.27579617834394904),\n",
              " (['(=O', '=O)', 'c1c'], 0.32452229299363056),\n",
              " (['(=O', 'c1c', 'ccc'], 0.27770700636942675),\n",
              " (['(=O', 'c1c', 'cc('], 0.2550955414012739),\n",
              " (['(=O', '=O)', 'c1c', 'ccc'], 0.27770700636942675),\n",
              " (['(=O', '=O)', 'c1c', 'cc('], 0.2550955414012739),\n",
              " (['ccc', '(cc'], 0.3340764331210191),\n",
              " (['(cc', 'cc('], 0.32261146496815285),\n",
              " (['=O)', '(cc'], 0.2961783439490446),\n",
              " (['cc1', '(cc'], 0.2729299363057325),\n",
              " (['c1c', '(cc'], 0.28853503184713375),\n",
              " (['c(c', 'ccc', '(cc'], 0.3184713375796178),\n",
              " (['c(c', '(cc', 'cc('], 0.31146496815286623),\n",
              " (['ccc', '(cc', 'cc('], 0.28312101910828025),\n",
              " (['c(c', 'ccc', '(cc', 'cc('], 0.2732484076433121),\n",
              " (['c(c', '=O)', '(cc'], 0.2808917197452229),\n",
              " (['=O)', 'ccc', '(cc'], 0.25414012738853503),\n",
              " (['=O)', '(cc', 'cc('], 0.25095541401273885),\n",
              " (['c(c', 'cc1', '(cc'], 0.25636942675159236),\n",
              " (['c(c', 'c1c', '(cc'], 0.282484076433121),\n",
              " (['c1c', 'ccc', '(cc'], 0.25095541401273885),\n",
              " (['ccc', 'C(='], 0.28853503184713375),\n",
              " (['C(=', 'cc('], 0.25286624203821656),\n",
              " (['c1c', 'C(='], 0.2592356687898089),\n",
              " (['=O)', 'C(=', 'ccc'], 0.28152866242038216),\n",
              " (['(=O', 'ccc', 'C(='], 0.27261146496815286),\n",
              " (['(=O', '=O)', 'C(=', 'ccc'], 0.27261146496815286),\n",
              " (['=O)', 'c1c', 'C(='], 0.2531847133757962),\n",
              " ([')cc', 'ccc'], 0.32420382165605094),\n",
              " ([')cc', 'cc('], 0.3162420382165605),\n",
              " (['=O)', ')cc'], 0.2968152866242038),\n",
              " ([')cc', 'cc1'], 0.26496815286624203),\n",
              " (['c1c', ')cc'], 0.27420382165605095),\n",
              " ([')cc', 'ccc', 'cc('], 0.27388535031847133),\n",
              " (['=O)', ')cc', 'cc('], 0.25477707006369427),\n",
              " (['=O)', 'ccc', ')cc'], 0.25),\n",
              " (['O)c', '=O)'], 0.2818471337579618),\n",
              " (['=O)', '1cc'], 0.3356687898089172),\n",
              " (['c(c', '1cc'], 0.278343949044586),\n",
              " (['(=O', '1cc'], 0.2515923566878981),\n",
              " (['c1c', 'ccc', '1cc'], 0.4035031847133758),\n",
              " (['1cc', 'ccc', 'cc('], 0.32420382165605094),\n",
              " (['c1c', 'ccc', '1cc', 'cc('], 0.31719745222929935),\n",
              " (['c1c', 'cc1', '1cc'], 0.34394904458598724),\n",
              " (['1cc', 'cc1', 'cc('], 0.2694267515923567),\n",
              " (['c1c', 'ccc', 'cc1', '1cc'], 0.3143312101910828),\n",
              " (['c1c', 'cc1', '1cc', 'cc('], 0.26719745222929936),\n",
              " (['1cc', 'ccc', 'cc1', 'cc('], 0.25445859872611465),\n",
              " (['ccc', 'cc(', 'c1c', '1cc', 'cc1'], 0.2522292993630573),\n",
              " (['c1c', '=O)', '1cc'], 0.3267515923566879),\n",
              " (['=O)', 'ccc', '1cc'], 0.3015923566878981),\n",
              " (['=O)', '1cc', 'cc('], 0.27802547770700636),\n",
              " (['=O)', 'cc1', '1cc'], 0.2646496815286624),\n",
              " (['c1c', '=O)', 'ccc', '1cc'], 0.2964968152866242),\n",
              " (['c1c', '=O)', '1cc', 'cc('], 0.2697452229299363),\n",
              " (['=O)', 'ccc', '1cc', 'cc('], 0.25477707006369427),\n",
              " (['ccc', 'cc(', 'c1c', '=O)', '1cc'], 0.2503184713375796),\n",
              " (['c1c', '=O)', 'cc1', '1cc'], 0.2627388535031847),\n",
              " (['c(c', 'c1c', '1cc'], 0.2735668789808917),\n",
              " (['c(c', '1cc', 'cc('], 0.25445859872611465),\n",
              " (['c(c', '1cc', 'ccc'], 0.25),\n",
              " (['c(c', 'c1c', '1cc', 'cc('], 0.25),\n",
              " (['(=O', '=O)', '1cc'], 0.2515923566878981),\n",
              " ([')=O', 'ccc'], 0.34235668789808915),\n",
              " ([')=O', 'cc('], 0.3105095541401274),\n",
              " (['c1c', ')=O'], 0.3),\n",
              " (['c(c', ')=O'], 0.27229299363057324),\n",
              " ([')=O', 'cc1'], 0.25987261146496815),\n",
              " (['=O)', ')=O'], 0.4098726114649682),\n",
              " (['=O)', ')=O', 'ccc'], 0.3006369426751592),\n",
              " ([')=O', 'ccc', 'cc('], 0.2697452229299363),\n",
              " (['=O)', ')=O', 'cc('], 0.27261146496815286),\n",
              " (['c1c', ')=O', 'ccc'], 0.2554140127388535),\n",
              " (['c1c', ')=O', '=O)'], 0.2554140127388535),\n",
              " (['c2c', 'cc2'], 0.30286624203821655),\n",
              " (['ccc', 'cc2'], 0.2945859872611465),\n",
              " (['c2c', 'ccc', 'cc2'], 0.271656050955414)]"
            ]
          },
          "metadata": {
            "tags": []
          },
          "execution_count": 52
        }
      ]
    },
    {
      "cell_type": "code",
      "metadata": {
        "colab": {
          "base_uri": "https://localhost:8080/"
        },
        "id": "wCmgyFzO_kcI",
        "outputId": "c4270cf1-3d3b-48c0-9b47-5a961be20a51"
      },
      "source": [
        "print(len(pure_negative_result))\n",
        "pure_negative_result"
      ],
      "execution_count": 53,
      "outputs": [
        {
          "output_type": "stream",
          "text": [
            "22\n"
          ],
          "name": "stdout"
        },
        {
          "output_type": "execute_result",
          "data": {
            "text/plain": [
              "[(['CCN'], 0.29811827956989245),\n",
              " (['1)C'], 0.27338709677419354),\n",
              " (['CC('], 0.32016129032258067),\n",
              " (['CCC'], 0.35940860215053766),\n",
              " (['ccc', '(CC'], 0.29596774193548386),\n",
              " (['=O)', '(CC'], 0.2986559139784946),\n",
              " (['c1c', 'c1)', '1cc'], 0.26801075268817204),\n",
              " (['ccc', ')CC'], 0.27123655913978495),\n",
              " (['=O)', ')CC'], 0.278494623655914),\n",
              " (['C(C', 'ccc'], 0.27419354838709675),\n",
              " (['=O)', 'C(C'], 0.27741935483870966),\n",
              " (['C(C', '(C)'], 0.26021505376344084),\n",
              " (['c1c', '1cc', 'cc1'], 0.3204301075268817),\n",
              " (['c1c', '1cc', 'ccc', 'cc1'], 0.2991935483870968),\n",
              " (['c1c', '1cc', 'ccc'], 0.3672043010752688),\n",
              " (['c1c', '=O)'], 0.28951612903225804),\n",
              " ([')=O', '=O)'], 0.3293010752688172),\n",
              " (['ccc', 'N(C'], 0.26263440860215054),\n",
              " (['ccc', 'C)C'], 0.3118279569892473),\n",
              " (['c1c', 'C)C'], 0.26881720430107525),\n",
              " (['=O)', 'C)C'], 0.28198924731182795),\n",
              " ([')C)', 'C)C'], 0.2653225806451613)]"
            ]
          },
          "metadata": {
            "tags": []
          },
          "execution_count": 53
        }
      ]
    },
    {
      "cell_type": "code",
      "metadata": {
        "colab": {
          "base_uri": "https://localhost:8080/"
        },
        "id": "L4mWutzt_rYY",
        "outputId": "f8ed192b-40c7-489d-e880-4fa072aa437f"
      },
      "source": [
        "print(len(share_positive_result))\n",
        "share_positive_result"
      ],
      "execution_count": 54,
      "outputs": [
        {
          "output_type": "stream",
          "text": [
            "59\n"
          ],
          "name": "stdout"
        },
        {
          "output_type": "execute_result",
          "data": {
            "text/plain": [
              "[(['c2c'], 0.439171974522293),\n",
              " (['c(c'], 0.5226114649681529),\n",
              " (['c1c'], 0.6095541401273885),\n",
              " (['c1)'], 0.4194267515923567),\n",
              " (['=O)'], 0.6917197452229299),\n",
              " (['ccc'], 0.6910828025477707),\n",
              " (['cc('], 0.5837579617834395),\n",
              " (['cc1'], 0.5089171974522293),\n",
              " (['(=O'], 0.5),\n",
              " (['(cc'], 0.3945859872611465),\n",
              " (['C(='], 0.39363057324840767),\n",
              " ([')cc'], 0.38980891719745225),\n",
              " (['O)C'], 0.3178343949044586),\n",
              " (['(O)'], 0.2535031847133758),\n",
              " (['1cc'], 0.4621019108280255),\n",
              " (['(C)'], 0.4105095541401274),\n",
              " (['C(C'], 0.32834394904458597),\n",
              " ([')=O'], 0.478343949044586),\n",
              " ([')C('], 0.2576433121019108),\n",
              " ([')C)'], 0.2694267515923567),\n",
              " (['C)C'], 0.34808917197452227),\n",
              " ([')CC'], 0.2531847133757962),\n",
              " (['(C('], 0.27229299363057324),\n",
              " (['(CC'], 0.2519108280254777),\n",
              " (['N(C'], 0.2531847133757962),\n",
              " (['c(c', 'cc('], 0.4194267515923567),\n",
              " (['c(c', 'ccc'], 0.41624203821656053),\n",
              " (['c(c', 'c1c'], 0.3869426751592357),\n",
              " (['c1c', 'ccc'], 0.5101910828025478),\n",
              " (['c1)', 'ccc'], 0.343312101910828),\n",
              " (['c1)', 'cc1'], 0.3197452229299363),\n",
              " (['c1)', 'c1c'], 0.35509554140127386),\n",
              " (['c1)', '1cc'], 0.2751592356687898),\n",
              " (['c1)', 'c1c', 'ccc'], 0.304140127388535),\n",
              " (['c1)', 'ccc', 'cc1'], 0.27388535031847133),\n",
              " (['c1)', 'c1c', 'cc1'], 0.2802547770700637),\n",
              " (['=O)', 'ccc'], 0.4929936305732484),\n",
              " (['ccc', 'cc('], 0.5035031847133759),\n",
              " (['c1c', 'cc('], 0.43853503184713377),\n",
              " (['c1c', 'ccc', 'cc('], 0.3818471337579618),\n",
              " (['ccc', 'cc1'], 0.43630573248407645),\n",
              " (['c1c', 'cc1'], 0.4213375796178344),\n",
              " (['c1c', 'ccc', 'cc1'], 0.3719745222929936),\n",
              " (['(=O', '=O)'], 0.5),\n",
              " (['c(c', '(cc'], 0.3732484076433121),\n",
              " (['=O)', 'C(='], 0.38057324840764334),\n",
              " (['(=O', 'C(='], 0.36369426751592354),\n",
              " (['(=O', '=O)', 'C(='], 0.36369426751592354),\n",
              " (['=O)', 'O)C'], 0.28885350318471337),\n",
              " (['c1c', '1cc'], 0.4493630573248408),\n",
              " (['1cc', 'ccc'], 0.41146496815286626),\n",
              " (['1cc', 'cc('], 0.35668789808917195),\n",
              " (['1cc', 'cc1'], 0.3464968152866242),\n",
              " (['c1c', '1cc', 'cc('], 0.34585987261146495),\n",
              " (['1cc', 'ccc', 'cc1'], 0.31687898089171973),\n",
              " (['=O)', '(C)'], 0.2987261146496815),\n",
              " (['ccc', '(C)'], 0.27961783439490445),\n",
              " (['c1c', '(C)'], 0.256687898089172),\n",
              " (['(C)', 'C)C'], 0.26847133757961783)]"
            ]
          },
          "metadata": {
            "tags": []
          },
          "execution_count": 54
        }
      ]
    },
    {
      "cell_type": "code",
      "metadata": {
        "id": "nXS8VVdR_v84",
        "colab": {
          "base_uri": "https://localhost:8080/"
        },
        "outputId": "b02686e4-f38f-49c0-9faa-759f7234e733"
      },
      "source": [
        "print(len(share_negative_result))\n",
        "share_negative_result"
      ],
      "execution_count": 55,
      "outputs": [
        {
          "output_type": "stream",
          "text": [
            "59\n"
          ],
          "name": "stdout"
        },
        {
          "output_type": "execute_result",
          "data": {
            "text/plain": [
              "[(['c1c'], 0.5422043010752688),\n",
              " (['(CC'], 0.43172043010752686),\n",
              " (['cc('], 0.4252688172043011),\n",
              " (['c1)'], 0.3728494623655914),\n",
              " (['c(c'], 0.37016129032258066),\n",
              " (['(O)'], 0.36451612903225805),\n",
              " (['(cc'], 0.2760752688172043),\n",
              " (['ccc'], 0.6244623655913979),\n",
              " ([')CC'], 0.3879032258064516),\n",
              " (['cc1'], 0.45026881720430106),\n",
              " ([')cc'], 0.29354838709677417),\n",
              " (['C(C'], 0.435752688172043),\n",
              " (['1cc'], 0.4134408602150538),\n",
              " (['O)C'], 0.4344086021505376),\n",
              " (['=O)'], 0.5405913978494624),\n",
              " (['(=O'], 0.38467741935483873),\n",
              " ([')=O'], 0.3760752688172043),\n",
              " (['C(='], 0.34381720430107526),\n",
              " (['(C('], 0.3204301075268817),\n",
              " ([')C('], 0.3053763440860215),\n",
              " (['N(C'], 0.3131720430107527),\n",
              " (['(C)'], 0.47123655913978496),\n",
              " (['C)C'], 0.46344086021505376),\n",
              " ([')C)'], 0.3260752688172043),\n",
              " (['c2c'], 0.30510752688172044),\n",
              " (['c1c', 'ccc'], 0.46586021505376346),\n",
              " (['c1c', 'cc('], 0.317741935483871),\n",
              " (['ccc', 'cc('], 0.3553763440860215),\n",
              " (['c1c', 'ccc', 'cc('], 0.2728494623655914),\n",
              " (['c1)', 'c1c'], 0.3247311827956989),\n",
              " (['c1)', 'ccc'], 0.3155913978494624),\n",
              " (['c1)', 'cc1'], 0.2830645161290323),\n",
              " (['c1)', '1cc'], 0.26801075268817204),\n",
              " (['c1)', 'c1c', 'ccc'], 0.28817204301075267),\n",
              " (['c1)', 'c1c', 'cc1'], 0.2575268817204301),\n",
              " (['c1)', 'ccc', 'cc1'], 0.260752688172043),\n",
              " (['c(c', 'cc('], 0.2717741935483871),\n",
              " (['c(c', 'c1c'], 0.26263440860215054),\n",
              " (['c(c', 'ccc'], 0.2846774193548387),\n",
              " (['c(c', '(cc'], 0.2618279569892473),\n",
              " (['ccc', 'cc1'], 0.40725806451612906),\n",
              " (['c1c', 'cc1'], 0.39301075268817204),\n",
              " (['c1c', 'ccc', 'cc1'], 0.3604838709677419),\n",
              " (['c1c', '1cc'], 0.4104838709677419),\n",
              " (['1cc', 'cc1'], 0.32123655913978494),\n",
              " (['1cc', 'cc('], 0.26559139784946234),\n",
              " (['1cc', 'ccc'], 0.3688172043010753),\n",
              " (['1cc', 'ccc', 'cc1'], 0.3),\n",
              " (['c1c', '1cc', 'cc('], 0.2631720430107527),\n",
              " (['=O)', 'O)C'], 0.3293010752688172),\n",
              " (['=O)', 'ccc'], 0.3341397849462366),\n",
              " (['(=O', '=O)'], 0.38467741935483873),\n",
              " (['=O)', 'C(='], 0.3225806451612903),\n",
              " (['(=O', 'C(='], 0.3163978494623656),\n",
              " (['(=O', '=O)', 'C(='], 0.3163978494623656),\n",
              " (['ccc', '(C)'], 0.310752688172043),\n",
              " (['c1c', '(C)'], 0.2752688172043011),\n",
              " (['=O)', '(C)'], 0.2771505376344086),\n",
              " (['(C)', 'C)C'], 0.34381720430107526)]"
            ]
          },
          "metadata": {
            "tags": []
          },
          "execution_count": 55
        }
      ]
    },
    {
      "cell_type": "code",
      "metadata": {
        "id": "HvYTQRtcIbdF"
      },
      "source": [
        ""
      ],
      "execution_count": 55,
      "outputs": []
    }
  ]
}